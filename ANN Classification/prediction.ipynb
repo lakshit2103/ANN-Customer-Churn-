{
 "cells": [
  {
   "cell_type": "code",
   "execution_count": 2,
   "id": "ad72998c",
   "metadata": {},
   "outputs": [],
   "source": [
    "import tensorflow as tf\n",
    "from tensorflow.keras.models import load_model\n",
    "import pickle\n",
    "import pandas as pd\n",
    "import numpy as np"
   ]
  },
  {
   "cell_type": "code",
   "execution_count": 3,
   "id": "ed1705de",
   "metadata": {},
   "outputs": [
    {
     "name": "stderr",
     "output_type": "stream",
     "text": [
      "WARNING:absl:Compiled the loaded model, but the compiled metrics have yet to be built. `model.compile_metrics` will be empty until you train or evaluate the model.\n"
     ]
    }
   ],
   "source": [
    "model = load_model(\"model.h5\")\n",
    "\n",
    "with open(\"label_encoder_gender.pkl\",\"rb\") as file:\n",
    "    label_encoder_gender=pickle.load(file)\n",
    "    \n",
    "with open(\"one_hot_encoder_geo.pkl\",\"rb\") as file:\n",
    "    label_encoder_geo=pickle.load(file)   \n",
    "    \n",
    "with open(\"scaler.pkl\",\"rb\") as file:\n",
    "    scaler=pickle.load(file)     "
   ]
  },
  {
   "cell_type": "code",
   "execution_count": 5,
   "id": "e9b06a68",
   "metadata": {},
   "outputs": [],
   "source": [
    "input_data = {\n",
    "    \"CreditScore\" : 600,\n",
    "    \"Geography\" : \"France\",\n",
    "    \"Gender\" : \"Male\",\n",
    "    \"Age\" : 40,\n",
    "    \"Tenure\" : 3,\n",
    "    \"Balance\" : 60000,\n",
    "    \"NumOfProducts\" : 2,\n",
    "    \"HasCrCard\" : 1,\n",
    "    \"IsActiveMember\" : 1,\n",
    "    \"EstimatedSalary\" : 50000\n",
    "    \n",
    "}"
   ]
  },
  {
   "cell_type": "code",
   "execution_count": null,
   "id": "6655ad2f",
   "metadata": {},
   "outputs": [],
   "source": [
    "geo_encoded = label_encoder_geo.transform(input_data[\"Geography\"]).toarray()\n",
    "geo_encoded_df=pd.DataFrame(geo_encoded.toarray(),columns=o_h_encoder_geo.get_feature_names_out([\"Geography\"]))"
   ]
  }
 ],
 "metadata": {
  "kernelspec": {
   "display_name": "MachineLearning",
   "language": "python",
   "name": "python3"
  },
  "language_info": {
   "codemirror_mode": {
    "name": "ipython",
    "version": 3
   },
   "file_extension": ".py",
   "mimetype": "text/x-python",
   "name": "python",
   "nbconvert_exporter": "python",
   "pygments_lexer": "ipython3",
   "version": "3.12.8"
  }
 },
 "nbformat": 4,
 "nbformat_minor": 5
}
